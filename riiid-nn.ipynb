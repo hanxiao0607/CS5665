{
 "cells": [
  {
   "cell_type": "code",
   "execution_count": 1,
   "metadata": {
    "_cell_guid": "b1076dfc-b9ad-4769-8c92-a6c4dae69d19",
    "_uuid": "8f2839f25d086af736a60e9eeb907d3b93b6e0e5",
    "execution": {
     "iopub.execute_input": "2020-12-01T01:07:48.224614Z",
     "iopub.status.busy": "2020-12-01T01:07:48.223523Z",
     "iopub.status.idle": "2020-12-01T01:07:48.230475Z",
     "shell.execute_reply": "2020-12-01T01:07:48.229903Z"
    },
    "papermill": {
     "duration": 0.044643,
     "end_time": "2020-12-01T01:07:48.230590",
     "exception": false,
     "start_time": "2020-12-01T01:07:48.185947",
     "status": "completed"
    },
    "tags": []
   },
   "outputs": [
    {
     "name": "stdout",
     "output_type": "stream",
     "text": [
      "/kaggle/input/riiid-test-answer-prediction/train.csv\n",
      "/kaggle/input/riiid-test-answer-prediction/example_test.csv\n",
      "/kaggle/input/riiid-test-answer-prediction/lectures.csv\n",
      "/kaggle/input/riiid-test-answer-prediction/questions.csv\n",
      "/kaggle/input/riiid-test-answer-prediction/example_sample_submission.csv\n",
      "/kaggle/input/riiid-test-answer-prediction/riiideducation/__init__.py\n",
      "/kaggle/input/riiid-test-answer-prediction/riiideducation/competition.cpython-37m-x86_64-linux-gnu.so\n"
     ]
    }
   ],
   "source": [
    "# This Python 3 environment comes with many helpful analytics libraries installed\n",
    "# It is defined by the kaggle/python Docker image: https://github.com/kaggle/docker-python\n",
    "# For example, here's several helpful packages to load\n",
    "\n",
    "import numpy as np # linear algebra\n",
    "import pandas as pd # data processing, CSV file I/O (e.g. pd.read_csv)\n",
    "\n",
    "# Input data files are available in the read-only \"../input/\" directory\n",
    "# For example, running this (by clicking run or pressing Shift+Enter) will list all files under the input directory\n",
    "\n",
    "import os\n",
    "for dirname, _, filenames in os.walk('/kaggle/input'):\n",
    "    for filename in filenames:\n",
    "        print(os.path.join(dirname, filename))\n",
    "\n",
    "# You can write up to 20GB to the current directory (/kaggle/working/) that gets preserved as output when you create a version using \"Save & Run All\" \n",
    "# You can also write temporary files to /kaggle/temp/, but they won't be saved outside of the current session"
   ]
  },
  {
   "cell_type": "code",
   "execution_count": 2,
   "metadata": {
    "_cell_guid": "79c7e3d0-c299-4dcb-8224-4455121ee9b0",
    "_uuid": "d629ff2d2480ee46fbb7e2d37f6b5fab8052498a",
    "execution": {
     "iopub.execute_input": "2020-12-01T01:07:48.296817Z",
     "iopub.status.busy": "2020-12-01T01:07:48.295830Z",
     "iopub.status.idle": "2020-12-01T01:07:48.303718Z",
     "shell.execute_reply": "2020-12-01T01:07:48.303093Z"
    },
    "papermill": {
     "duration": 0.042366,
     "end_time": "2020-12-01T01:07:48.303807",
     "exception": false,
     "start_time": "2020-12-01T01:07:48.261441",
     "status": "completed"
    },
    "tags": []
   },
   "outputs": [],
   "source": [
    "import numpy as np\n",
    "import pandas as pd\n",
    "\n",
    "os.chdir('/kaggle/input/riiid-test-answer-prediction')\n",
    "\n",
    "import riiideducation"
   ]
  },
  {
   "cell_type": "markdown",
   "metadata": {
    "papermill": {
     "duration": 0.029148,
     "end_time": "2020-12-01T01:07:48.363782",
     "exception": false,
     "start_time": "2020-12-01T01:07:48.334634",
     "status": "completed"
    },
    "tags": []
   },
   "source": [
    "### 1. EDA\n",
    "#### 1.1. Train EDA"
   ]
  },
  {
   "cell_type": "code",
   "execution_count": 3,
   "metadata": {
    "execution": {
     "iopub.execute_input": "2020-12-01T01:07:48.430982Z",
     "iopub.status.busy": "2020-12-01T01:07:48.430278Z",
     "iopub.status.idle": "2020-12-01T01:12:29.875995Z",
     "shell.execute_reply": "2020-12-01T01:12:29.875316Z"
    },
    "papermill": {
     "duration": 281.481782,
     "end_time": "2020-12-01T01:12:29.876146",
     "exception": false,
     "start_time": "2020-12-01T01:07:48.394364",
     "status": "completed"
    },
    "tags": []
   },
   "outputs": [],
   "source": [
    "train = pd.read_csv('/kaggle/input/riiid-test-answer-prediction/train.csv',\n",
    "                   usecols=[1, 2, 3, 4, 5, 7, 8, 9],\n",
    "                   dtype={'timestamp': 'int64',\n",
    "                          'user_id': 'int32',\n",
    "                          'content_id': 'int16',\n",
    "                          'content_type_id': 'int8',\n",
    "                          'task_container_id': 'int16',\n",
    "                          'answered_correctly':'int8',\n",
    "                          'prior_question_elapsed_time': 'float32',\n",
    "                          'prior_question_had_explanation': 'boolean'}\n",
    "                   )"
   ]
  },
  {
   "cell_type": "code",
   "execution_count": 4,
   "metadata": {
    "execution": {
     "iopub.execute_input": "2020-12-01T01:12:29.943362Z",
     "iopub.status.busy": "2020-12-01T01:12:29.942252Z",
     "iopub.status.idle": "2020-12-01T01:12:31.592960Z",
     "shell.execute_reply": "2020-12-01T01:12:31.591643Z"
    },
    "papermill": {
     "duration": 1.686496,
     "end_time": "2020-12-01T01:12:31.593191",
     "exception": false,
     "start_time": "2020-12-01T01:12:29.906695",
     "status": "completed"
    },
    "tags": []
   },
   "outputs": [
    {
     "name": "stdout",
     "output_type": "stream",
     "text": [
      "Part of missing values for every column\n",
      "timestamp                         0.000000\n",
      "user_id                           0.000000\n",
      "content_id                        0.000000\n",
      "content_type_id                   0.000000\n",
      "task_container_id                 0.000000\n",
      "answered_correctly                0.000000\n",
      "prior_question_elapsed_time       0.023230\n",
      "prior_question_had_explanation    0.003877\n",
      "dtype: float64\n"
     ]
    }
   ],
   "source": [
    "print('Part of missing values for every column')\n",
    "print(train.isnull().sum() / len(train))"
   ]
  },
  {
   "cell_type": "markdown",
   "metadata": {
    "papermill": {
     "duration": 0.032003,
     "end_time": "2020-12-01T01:12:31.657390",
     "exception": false,
     "start_time": "2020-12-01T01:12:31.625387",
     "status": "completed"
    },
    "tags": []
   },
   "source": [
    "#### 1.2. Question EDA"
   ]
  },
  {
   "cell_type": "code",
   "execution_count": 5,
   "metadata": {
    "execution": {
     "iopub.execute_input": "2020-12-01T01:12:31.726981Z",
     "iopub.status.busy": "2020-12-01T01:12:31.725596Z",
     "iopub.status.idle": "2020-12-01T01:12:31.809276Z",
     "shell.execute_reply": "2020-12-01T01:12:31.809840Z"
    },
    "papermill": {
     "duration": 0.121033,
     "end_time": "2020-12-01T01:12:31.810005",
     "exception": false,
     "start_time": "2020-12-01T01:12:31.688972",
     "status": "completed"
    },
    "tags": []
   },
   "outputs": [
    {
     "data": {
      "text/html": [
       "<div>\n",
       "<style scoped>\n",
       "    .dataframe tbody tr th:only-of-type {\n",
       "        vertical-align: middle;\n",
       "    }\n",
       "\n",
       "    .dataframe tbody tr th {\n",
       "        vertical-align: top;\n",
       "    }\n",
       "\n",
       "    .dataframe thead th {\n",
       "        text-align: right;\n",
       "    }\n",
       "</style>\n",
       "<table border=\"1\" class=\"dataframe\">\n",
       "  <thead>\n",
       "    <tr style=\"text-align: right;\">\n",
       "      <th></th>\n",
       "      <th>question_id</th>\n",
       "      <th>part</th>\n",
       "    </tr>\n",
       "  </thead>\n",
       "  <tbody>\n",
       "    <tr>\n",
       "      <th>0</th>\n",
       "      <td>0</td>\n",
       "      <td>1</td>\n",
       "    </tr>\n",
       "    <tr>\n",
       "      <th>1</th>\n",
       "      <td>1</td>\n",
       "      <td>1</td>\n",
       "    </tr>\n",
       "    <tr>\n",
       "      <th>2</th>\n",
       "      <td>2</td>\n",
       "      <td>1</td>\n",
       "    </tr>\n",
       "    <tr>\n",
       "      <th>3</th>\n",
       "      <td>3</td>\n",
       "      <td>1</td>\n",
       "    </tr>\n",
       "    <tr>\n",
       "      <th>4</th>\n",
       "      <td>4</td>\n",
       "      <td>1</td>\n",
       "    </tr>\n",
       "  </tbody>\n",
       "</table>\n",
       "</div>"
      ],
      "text/plain": [
       "   question_id  part\n",
       "0            0     1\n",
       "1            1     1\n",
       "2            2     1\n",
       "3            3     1\n",
       "4            4     1"
      ]
     },
     "execution_count": 5,
     "metadata": {},
     "output_type": "execute_result"
    }
   ],
   "source": [
    "#reading in question df\n",
    "questions_df = pd.read_csv('/kaggle/input/riiid-test-answer-prediction/questions.csv',                         \n",
    "                            usecols=[0, 3],\n",
    "                            dtype={'question_id': 'int16',\n",
    "                              'part': 'int8'}\n",
    "                          )\n",
    "questions_df.head()"
   ]
  },
  {
   "cell_type": "code",
   "execution_count": 6,
   "metadata": {
    "execution": {
     "iopub.execute_input": "2020-12-01T01:12:31.880676Z",
     "iopub.status.busy": "2020-12-01T01:12:31.878177Z",
     "iopub.status.idle": "2020-12-01T01:12:31.886588Z",
     "shell.execute_reply": "2020-12-01T01:12:31.885954Z"
    },
    "papermill": {
     "duration": 0.045146,
     "end_time": "2020-12-01T01:12:31.886714",
     "exception": false,
     "start_time": "2020-12-01T01:12:31.841568",
     "status": "completed"
    },
    "tags": []
   },
   "outputs": [
    {
     "name": "stdout",
     "output_type": "stream",
     "text": [
      "Part of missing values for every column\n",
      "question_id    0.0\n",
      "part           0.0\n",
      "dtype: float64\n"
     ]
    }
   ],
   "source": [
    "print('Part of missing values for every column')\n",
    "print(questions_df.isnull().sum() / len(questions_df))"
   ]
  },
  {
   "cell_type": "markdown",
   "metadata": {
    "papermill": {
     "duration": 0.032607,
     "end_time": "2020-12-01T01:12:31.952711",
     "exception": false,
     "start_time": "2020-12-01T01:12:31.920104",
     "status": "completed"
    },
    "tags": []
   },
   "source": [
    "#### 1.3. Lectures EDA"
   ]
  },
  {
   "cell_type": "code",
   "execution_count": 7,
   "metadata": {
    "execution": {
     "iopub.execute_input": "2020-12-01T01:12:32.025246Z",
     "iopub.status.busy": "2020-12-01T01:12:32.024390Z",
     "iopub.status.idle": "2020-12-01T01:12:32.036334Z",
     "shell.execute_reply": "2020-12-01T01:12:32.035851Z"
    },
    "papermill": {
     "duration": 0.049794,
     "end_time": "2020-12-01T01:12:32.036429",
     "exception": false,
     "start_time": "2020-12-01T01:12:31.986635",
     "status": "completed"
    },
    "tags": []
   },
   "outputs": [
    {
     "data": {
      "text/html": [
       "<div>\n",
       "<style scoped>\n",
       "    .dataframe tbody tr th:only-of-type {\n",
       "        vertical-align: middle;\n",
       "    }\n",
       "\n",
       "    .dataframe tbody tr th {\n",
       "        vertical-align: top;\n",
       "    }\n",
       "\n",
       "    .dataframe thead th {\n",
       "        text-align: right;\n",
       "    }\n",
       "</style>\n",
       "<table border=\"1\" class=\"dataframe\">\n",
       "  <thead>\n",
       "    <tr style=\"text-align: right;\">\n",
       "      <th></th>\n",
       "      <th>lecture_id</th>\n",
       "      <th>tag</th>\n",
       "      <th>part</th>\n",
       "      <th>type_of</th>\n",
       "    </tr>\n",
       "  </thead>\n",
       "  <tbody>\n",
       "    <tr>\n",
       "      <th>0</th>\n",
       "      <td>89</td>\n",
       "      <td>159</td>\n",
       "      <td>5</td>\n",
       "      <td>concept</td>\n",
       "    </tr>\n",
       "    <tr>\n",
       "      <th>1</th>\n",
       "      <td>100</td>\n",
       "      <td>70</td>\n",
       "      <td>1</td>\n",
       "      <td>concept</td>\n",
       "    </tr>\n",
       "    <tr>\n",
       "      <th>2</th>\n",
       "      <td>185</td>\n",
       "      <td>45</td>\n",
       "      <td>6</td>\n",
       "      <td>concept</td>\n",
       "    </tr>\n",
       "    <tr>\n",
       "      <th>3</th>\n",
       "      <td>192</td>\n",
       "      <td>79</td>\n",
       "      <td>5</td>\n",
       "      <td>solving question</td>\n",
       "    </tr>\n",
       "    <tr>\n",
       "      <th>4</th>\n",
       "      <td>317</td>\n",
       "      <td>156</td>\n",
       "      <td>5</td>\n",
       "      <td>solving question</td>\n",
       "    </tr>\n",
       "  </tbody>\n",
       "</table>\n",
       "</div>"
      ],
      "text/plain": [
       "   lecture_id  tag  part           type_of\n",
       "0          89  159     5           concept\n",
       "1         100   70     1           concept\n",
       "2         185   45     6           concept\n",
       "3         192   79     5  solving question\n",
       "4         317  156     5  solving question"
      ]
     },
     "execution_count": 7,
     "metadata": {},
     "output_type": "execute_result"
    }
   ],
   "source": [
    "lectures_df = pd.read_csv('/kaggle/input/riiid-test-answer-prediction/lectures.csv')\n",
    "lectures_df.head()"
   ]
  },
  {
   "cell_type": "code",
   "execution_count": 8,
   "metadata": {
    "execution": {
     "iopub.execute_input": "2020-12-01T01:12:32.108649Z",
     "iopub.status.busy": "2020-12-01T01:12:32.107883Z",
     "iopub.status.idle": "2020-12-01T01:12:32.113264Z",
     "shell.execute_reply": "2020-12-01T01:12:32.113848Z"
    },
    "papermill": {
     "duration": 0.045148,
     "end_time": "2020-12-01T01:12:32.113991",
     "exception": false,
     "start_time": "2020-12-01T01:12:32.068843",
     "status": "completed"
    },
    "tags": []
   },
   "outputs": [
    {
     "name": "stdout",
     "output_type": "stream",
     "text": [
      "Part of missing values for every column\n",
      "lecture_id    0.0\n",
      "tag           0.0\n",
      "part          0.0\n",
      "type_of       0.0\n",
      "dtype: float64\n"
     ]
    }
   ],
   "source": [
    "print('Part of missing values for every column')\n",
    "print(lectures_df.isnull().sum() / len(lectures_df))"
   ]
  },
  {
   "cell_type": "markdown",
   "metadata": {
    "papermill": {
     "duration": 0.033966,
     "end_time": "2020-12-01T01:12:32.181572",
     "exception": false,
     "start_time": "2020-12-01T01:12:32.147606",
     "status": "completed"
    },
    "tags": []
   },
   "source": [
    "### 2. Preprocessing"
   ]
  },
  {
   "cell_type": "code",
   "execution_count": 9,
   "metadata": {
    "execution": {
     "iopub.execute_input": "2020-12-01T01:12:32.264657Z",
     "iopub.status.busy": "2020-12-01T01:12:32.263749Z",
     "iopub.status.idle": "2020-12-01T01:12:32.278820Z",
     "shell.execute_reply": "2020-12-01T01:12:32.279445Z"
    },
    "papermill": {
     "duration": 0.063218,
     "end_time": "2020-12-01T01:12:32.279566",
     "exception": false,
     "start_time": "2020-12-01T01:12:32.216348",
     "status": "completed"
    },
    "tags": []
   },
   "outputs": [
    {
     "data": {
      "text/html": [
       "<div>\n",
       "<style scoped>\n",
       "    .dataframe tbody tr th:only-of-type {\n",
       "        vertical-align: middle;\n",
       "    }\n",
       "\n",
       "    .dataframe tbody tr th {\n",
       "        vertical-align: top;\n",
       "    }\n",
       "\n",
       "    .dataframe thead th {\n",
       "        text-align: right;\n",
       "    }\n",
       "</style>\n",
       "<table border=\"1\" class=\"dataframe\">\n",
       "  <thead>\n",
       "    <tr style=\"text-align: right;\">\n",
       "      <th></th>\n",
       "      <th>lecture_id</th>\n",
       "      <th>tag</th>\n",
       "      <th>part_1</th>\n",
       "      <th>part_2</th>\n",
       "      <th>part_3</th>\n",
       "      <th>part_4</th>\n",
       "      <th>part_5</th>\n",
       "      <th>part_6</th>\n",
       "      <th>part_7</th>\n",
       "      <th>type_of_concept</th>\n",
       "      <th>type_of_intention</th>\n",
       "      <th>type_of_solving_question</th>\n",
       "      <th>type_of_starter</th>\n",
       "    </tr>\n",
       "  </thead>\n",
       "  <tbody>\n",
       "    <tr>\n",
       "      <th>0</th>\n",
       "      <td>89</td>\n",
       "      <td>159</td>\n",
       "      <td>0</td>\n",
       "      <td>0</td>\n",
       "      <td>0</td>\n",
       "      <td>0</td>\n",
       "      <td>1</td>\n",
       "      <td>0</td>\n",
       "      <td>0</td>\n",
       "      <td>1</td>\n",
       "      <td>0</td>\n",
       "      <td>0</td>\n",
       "      <td>0</td>\n",
       "    </tr>\n",
       "    <tr>\n",
       "      <th>1</th>\n",
       "      <td>100</td>\n",
       "      <td>70</td>\n",
       "      <td>1</td>\n",
       "      <td>0</td>\n",
       "      <td>0</td>\n",
       "      <td>0</td>\n",
       "      <td>0</td>\n",
       "      <td>0</td>\n",
       "      <td>0</td>\n",
       "      <td>1</td>\n",
       "      <td>0</td>\n",
       "      <td>0</td>\n",
       "      <td>0</td>\n",
       "    </tr>\n",
       "    <tr>\n",
       "      <th>2</th>\n",
       "      <td>185</td>\n",
       "      <td>45</td>\n",
       "      <td>0</td>\n",
       "      <td>0</td>\n",
       "      <td>0</td>\n",
       "      <td>0</td>\n",
       "      <td>0</td>\n",
       "      <td>1</td>\n",
       "      <td>0</td>\n",
       "      <td>1</td>\n",
       "      <td>0</td>\n",
       "      <td>0</td>\n",
       "      <td>0</td>\n",
       "    </tr>\n",
       "    <tr>\n",
       "      <th>3</th>\n",
       "      <td>192</td>\n",
       "      <td>79</td>\n",
       "      <td>0</td>\n",
       "      <td>0</td>\n",
       "      <td>0</td>\n",
       "      <td>0</td>\n",
       "      <td>1</td>\n",
       "      <td>0</td>\n",
       "      <td>0</td>\n",
       "      <td>0</td>\n",
       "      <td>0</td>\n",
       "      <td>1</td>\n",
       "      <td>0</td>\n",
       "    </tr>\n",
       "    <tr>\n",
       "      <th>4</th>\n",
       "      <td>317</td>\n",
       "      <td>156</td>\n",
       "      <td>0</td>\n",
       "      <td>0</td>\n",
       "      <td>0</td>\n",
       "      <td>0</td>\n",
       "      <td>1</td>\n",
       "      <td>0</td>\n",
       "      <td>0</td>\n",
       "      <td>0</td>\n",
       "      <td>0</td>\n",
       "      <td>1</td>\n",
       "      <td>0</td>\n",
       "    </tr>\n",
       "  </tbody>\n",
       "</table>\n",
       "</div>"
      ],
      "text/plain": [
       "   lecture_id  tag  part_1  part_2  part_3  part_4  part_5  part_6  part_7  \\\n",
       "0          89  159       0       0       0       0       1       0       0   \n",
       "1         100   70       1       0       0       0       0       0       0   \n",
       "2         185   45       0       0       0       0       0       1       0   \n",
       "3         192   79       0       0       0       0       1       0       0   \n",
       "4         317  156       0       0       0       0       1       0       0   \n",
       "\n",
       "   type_of_concept  type_of_intention  type_of_solving_question  \\\n",
       "0                1                  0                         0   \n",
       "1                1                  0                         0   \n",
       "2                1                  0                         0   \n",
       "3                0                  0                         1   \n",
       "4                0                  0                         1   \n",
       "\n",
       "   type_of_starter  \n",
       "0                0  \n",
       "1                0  \n",
       "2                0  \n",
       "3                0  \n",
       "4                0  "
      ]
     },
     "execution_count": 9,
     "metadata": {},
     "output_type": "execute_result"
    }
   ],
   "source": [
    "lectures_df['type_of'] = lectures_df['type_of'].replace('solving question', 'solving_question')\n",
    "\n",
    "lectures_df = pd.get_dummies(lectures_df, columns=['part', 'type_of'])\n",
    "\n",
    "part_lectures_columns = [column for column in lectures_df.columns if column.startswith('part')]\n",
    "\n",
    "types_of_lectures_columns = [column for column in lectures_df.columns if column.startswith('type_of_')]\n",
    "\n",
    "lectures_df.head()"
   ]
  },
  {
   "cell_type": "code",
   "execution_count": 10,
   "metadata": {
    "execution": {
     "iopub.execute_input": "2020-12-01T01:12:32.353009Z",
     "iopub.status.busy": "2020-12-01T01:12:32.351773Z",
     "iopub.status.idle": "2020-12-01T01:12:33.153225Z",
     "shell.execute_reply": "2020-12-01T01:12:33.153719Z"
    },
    "papermill": {
     "duration": 0.840458,
     "end_time": "2020-12-01T01:12:33.153851",
     "exception": false,
     "start_time": "2020-12-01T01:12:32.313393",
     "status": "completed"
    },
    "tags": []
   },
   "outputs": [
    {
     "data": {
      "text/html": [
       "<div>\n",
       "<style scoped>\n",
       "    .dataframe tbody tr th:only-of-type {\n",
       "        vertical-align: middle;\n",
       "    }\n",
       "\n",
       "    .dataframe tbody tr th {\n",
       "        vertical-align: top;\n",
       "    }\n",
       "\n",
       "    .dataframe thead th {\n",
       "        text-align: right;\n",
       "    }\n",
       "</style>\n",
       "<table border=\"1\" class=\"dataframe\">\n",
       "  <thead>\n",
       "    <tr style=\"text-align: right;\">\n",
       "      <th></th>\n",
       "      <th>timestamp</th>\n",
       "      <th>user_id</th>\n",
       "      <th>content_id</th>\n",
       "      <th>content_type_id</th>\n",
       "      <th>task_container_id</th>\n",
       "      <th>answered_correctly</th>\n",
       "      <th>prior_question_elapsed_time</th>\n",
       "      <th>prior_question_had_explanation</th>\n",
       "      <th>lecture_id</th>\n",
       "      <th>tag</th>\n",
       "      <th>...</th>\n",
       "      <th>part_2</th>\n",
       "      <th>part_3</th>\n",
       "      <th>part_4</th>\n",
       "      <th>part_5</th>\n",
       "      <th>part_6</th>\n",
       "      <th>part_7</th>\n",
       "      <th>type_of_concept</th>\n",
       "      <th>type_of_intention</th>\n",
       "      <th>type_of_solving_question</th>\n",
       "      <th>type_of_starter</th>\n",
       "    </tr>\n",
       "  </thead>\n",
       "  <tbody>\n",
       "    <tr>\n",
       "      <th>0</th>\n",
       "      <td>653762</td>\n",
       "      <td>2746</td>\n",
       "      <td>6808</td>\n",
       "      <td>1</td>\n",
       "      <td>14</td>\n",
       "      <td>-1</td>\n",
       "      <td>NaN</td>\n",
       "      <td>False</td>\n",
       "      <td>6808</td>\n",
       "      <td>129</td>\n",
       "      <td>...</td>\n",
       "      <td>1</td>\n",
       "      <td>0</td>\n",
       "      <td>0</td>\n",
       "      <td>0</td>\n",
       "      <td>0</td>\n",
       "      <td>0</td>\n",
       "      <td>0</td>\n",
       "      <td>1</td>\n",
       "      <td>0</td>\n",
       "      <td>0</td>\n",
       "    </tr>\n",
       "    <tr>\n",
       "      <th>1</th>\n",
       "      <td>10183847</td>\n",
       "      <td>5382</td>\n",
       "      <td>16736</td>\n",
       "      <td>1</td>\n",
       "      <td>21</td>\n",
       "      <td>-1</td>\n",
       "      <td>NaN</td>\n",
       "      <td>False</td>\n",
       "      <td>16736</td>\n",
       "      <td>40</td>\n",
       "      <td>...</td>\n",
       "      <td>0</td>\n",
       "      <td>0</td>\n",
       "      <td>0</td>\n",
       "      <td>0</td>\n",
       "      <td>0</td>\n",
       "      <td>0</td>\n",
       "      <td>1</td>\n",
       "      <td>0</td>\n",
       "      <td>0</td>\n",
       "      <td>0</td>\n",
       "    </tr>\n",
       "    <tr>\n",
       "      <th>2</th>\n",
       "      <td>1424348597</td>\n",
       "      <td>5382</td>\n",
       "      <td>30207</td>\n",
       "      <td>1</td>\n",
       "      <td>104</td>\n",
       "      <td>-1</td>\n",
       "      <td>NaN</td>\n",
       "      <td>False</td>\n",
       "      <td>30207</td>\n",
       "      <td>43</td>\n",
       "      <td>...</td>\n",
       "      <td>0</td>\n",
       "      <td>0</td>\n",
       "      <td>0</td>\n",
       "      <td>1</td>\n",
       "      <td>0</td>\n",
       "      <td>0</td>\n",
       "      <td>1</td>\n",
       "      <td>0</td>\n",
       "      <td>0</td>\n",
       "      <td>0</td>\n",
       "    </tr>\n",
       "    <tr>\n",
       "      <th>3</th>\n",
       "      <td>1425557777</td>\n",
       "      <td>5382</td>\n",
       "      <td>18545</td>\n",
       "      <td>1</td>\n",
       "      <td>121</td>\n",
       "      <td>-1</td>\n",
       "      <td>NaN</td>\n",
       "      <td>False</td>\n",
       "      <td>18545</td>\n",
       "      <td>58</td>\n",
       "      <td>...</td>\n",
       "      <td>0</td>\n",
       "      <td>0</td>\n",
       "      <td>0</td>\n",
       "      <td>1</td>\n",
       "      <td>0</td>\n",
       "      <td>0</td>\n",
       "      <td>1</td>\n",
       "      <td>0</td>\n",
       "      <td>0</td>\n",
       "      <td>0</td>\n",
       "    </tr>\n",
       "    <tr>\n",
       "      <th>4</th>\n",
       "      <td>405813029</td>\n",
       "      <td>8623</td>\n",
       "      <td>10540</td>\n",
       "      <td>1</td>\n",
       "      <td>59</td>\n",
       "      <td>-1</td>\n",
       "      <td>NaN</td>\n",
       "      <td>False</td>\n",
       "      <td>10540</td>\n",
       "      <td>99</td>\n",
       "      <td>...</td>\n",
       "      <td>0</td>\n",
       "      <td>0</td>\n",
       "      <td>0</td>\n",
       "      <td>0</td>\n",
       "      <td>0</td>\n",
       "      <td>0</td>\n",
       "      <td>1</td>\n",
       "      <td>0</td>\n",
       "      <td>0</td>\n",
       "      <td>0</td>\n",
       "    </tr>\n",
       "  </tbody>\n",
       "</table>\n",
       "<p>5 rows × 21 columns</p>\n",
       "</div>"
      ],
      "text/plain": [
       "    timestamp  user_id  content_id  content_type_id  task_container_id  \\\n",
       "0      653762     2746        6808                1                 14   \n",
       "1    10183847     5382       16736                1                 21   \n",
       "2  1424348597     5382       30207                1                104   \n",
       "3  1425557777     5382       18545                1                121   \n",
       "4   405813029     8623       10540                1                 59   \n",
       "\n",
       "   answered_correctly  prior_question_elapsed_time  \\\n",
       "0                  -1                          NaN   \n",
       "1                  -1                          NaN   \n",
       "2                  -1                          NaN   \n",
       "3                  -1                          NaN   \n",
       "4                  -1                          NaN   \n",
       "\n",
       "   prior_question_had_explanation  lecture_id  tag  ...  part_2  part_3  \\\n",
       "0                           False        6808  129  ...       1       0   \n",
       "1                           False       16736   40  ...       0       0   \n",
       "2                           False       30207   43  ...       0       0   \n",
       "3                           False       18545   58  ...       0       0   \n",
       "4                           False       10540   99  ...       0       0   \n",
       "\n",
       "   part_4  part_5  part_6  part_7  type_of_concept  type_of_intention  \\\n",
       "0       0       0       0       0                0                  1   \n",
       "1       0       0       0       0                1                  0   \n",
       "2       0       1       0       0                1                  0   \n",
       "3       0       1       0       0                1                  0   \n",
       "4       0       0       0       0                1                  0   \n",
       "\n",
       "   type_of_solving_question  type_of_starter  \n",
       "0                         0                0  \n",
       "1                         0                0  \n",
       "2                         0                0  \n",
       "3                         0                0  \n",
       "4                         0                0  \n",
       "\n",
       "[5 rows x 21 columns]"
      ]
     },
     "execution_count": 10,
     "metadata": {},
     "output_type": "execute_result"
    }
   ],
   "source": [
    "# merge lecture features to train dataset\n",
    "train_lectures = train[train.content_type_id == True].merge(lectures_df, left_on='content_id', right_on='lecture_id', how='left')\n",
    "\n",
    "train_lectures.head()"
   ]
  },
  {
   "cell_type": "code",
   "execution_count": 11,
   "metadata": {
    "execution": {
     "iopub.execute_input": "2020-12-01T01:12:33.233305Z",
     "iopub.status.busy": "2020-12-01T01:12:33.231624Z",
     "iopub.status.idle": "2020-12-01T01:12:33.641382Z",
     "shell.execute_reply": "2020-12-01T01:12:33.641865Z"
    },
    "papermill": {
     "duration": 0.453069,
     "end_time": "2020-12-01T01:12:33.641991",
     "exception": false,
     "start_time": "2020-12-01T01:12:33.188922",
     "status": "completed"
    },
    "tags": []
   },
   "outputs": [
    {
     "data": {
      "text/html": [
       "<div>\n",
       "<style scoped>\n",
       "    .dataframe tbody tr th:only-of-type {\n",
       "        vertical-align: middle;\n",
       "    }\n",
       "\n",
       "    .dataframe tbody tr th {\n",
       "        vertical-align: top;\n",
       "    }\n",
       "\n",
       "    .dataframe thead th {\n",
       "        text-align: right;\n",
       "    }\n",
       "</style>\n",
       "<table border=\"1\" class=\"dataframe\">\n",
       "  <thead>\n",
       "    <tr style=\"text-align: right;\">\n",
       "      <th></th>\n",
       "      <th>part_1</th>\n",
       "      <th>part_2</th>\n",
       "      <th>part_3</th>\n",
       "      <th>part_4</th>\n",
       "      <th>part_5</th>\n",
       "      <th>part_6</th>\n",
       "      <th>part_7</th>\n",
       "      <th>type_of_concept</th>\n",
       "      <th>type_of_intention</th>\n",
       "      <th>type_of_solving_question</th>\n",
       "      <th>type_of_starter</th>\n",
       "    </tr>\n",
       "    <tr>\n",
       "      <th>user_id</th>\n",
       "      <th></th>\n",
       "      <th></th>\n",
       "      <th></th>\n",
       "      <th></th>\n",
       "      <th></th>\n",
       "      <th></th>\n",
       "      <th></th>\n",
       "      <th></th>\n",
       "      <th></th>\n",
       "      <th></th>\n",
       "      <th></th>\n",
       "    </tr>\n",
       "  </thead>\n",
       "  <tbody>\n",
       "    <tr>\n",
       "      <th>2746</th>\n",
       "      <td>0</td>\n",
       "      <td>1</td>\n",
       "      <td>0</td>\n",
       "      <td>0</td>\n",
       "      <td>0</td>\n",
       "      <td>0</td>\n",
       "      <td>0</td>\n",
       "      <td>0</td>\n",
       "      <td>1</td>\n",
       "      <td>0</td>\n",
       "      <td>0</td>\n",
       "    </tr>\n",
       "    <tr>\n",
       "      <th>5382</th>\n",
       "      <td>1</td>\n",
       "      <td>0</td>\n",
       "      <td>0</td>\n",
       "      <td>0</td>\n",
       "      <td>2</td>\n",
       "      <td>0</td>\n",
       "      <td>0</td>\n",
       "      <td>3</td>\n",
       "      <td>0</td>\n",
       "      <td>0</td>\n",
       "      <td>0</td>\n",
       "    </tr>\n",
       "    <tr>\n",
       "      <th>8623</th>\n",
       "      <td>2</td>\n",
       "      <td>1</td>\n",
       "      <td>0</td>\n",
       "      <td>0</td>\n",
       "      <td>0</td>\n",
       "      <td>0</td>\n",
       "      <td>0</td>\n",
       "      <td>3</td>\n",
       "      <td>0</td>\n",
       "      <td>0</td>\n",
       "      <td>0</td>\n",
       "    </tr>\n",
       "    <tr>\n",
       "      <th>12741</th>\n",
       "      <td>0</td>\n",
       "      <td>0</td>\n",
       "      <td>0</td>\n",
       "      <td>3</td>\n",
       "      <td>0</td>\n",
       "      <td>1</td>\n",
       "      <td>2</td>\n",
       "      <td>4</td>\n",
       "      <td>0</td>\n",
       "      <td>2</td>\n",
       "      <td>0</td>\n",
       "    </tr>\n",
       "    <tr>\n",
       "      <th>13134</th>\n",
       "      <td>1</td>\n",
       "      <td>3</td>\n",
       "      <td>0</td>\n",
       "      <td>0</td>\n",
       "      <td>3</td>\n",
       "      <td>0</td>\n",
       "      <td>0</td>\n",
       "      <td>6</td>\n",
       "      <td>1</td>\n",
       "      <td>0</td>\n",
       "      <td>0</td>\n",
       "    </tr>\n",
       "  </tbody>\n",
       "</table>\n",
       "</div>"
      ],
      "text/plain": [
       "         part_1  part_2  part_3  part_4  part_5  part_6  part_7  \\\n",
       "user_id                                                           \n",
       "2746          0       1       0       0       0       0       0   \n",
       "5382          1       0       0       0       2       0       0   \n",
       "8623          2       1       0       0       0       0       0   \n",
       "12741         0       0       0       3       0       1       2   \n",
       "13134         1       3       0       0       3       0       0   \n",
       "\n",
       "         type_of_concept  type_of_intention  type_of_solving_question  \\\n",
       "user_id                                                                 \n",
       "2746                   0                  1                         0   \n",
       "5382                   3                  0                         0   \n",
       "8623                   3                  0                         0   \n",
       "12741                  4                  0                         2   \n",
       "13134                  6                  1                         0   \n",
       "\n",
       "         type_of_starter  \n",
       "user_id                   \n",
       "2746                   0  \n",
       "5382                   0  \n",
       "8623                   0  \n",
       "12741                  0  \n",
       "13134                  0  "
      ]
     },
     "execution_count": 11,
     "metadata": {},
     "output_type": "execute_result"
    }
   ],
   "source": [
    "# collect per user stats\n",
    "user_lecture_stats_part = train_lectures.groupby('user_id')[part_lectures_columns + types_of_lectures_columns].sum()\n",
    "\n",
    "user_lecture_stats_part.head()"
   ]
  },
  {
   "cell_type": "code",
   "execution_count": 12,
   "metadata": {
    "execution": {
     "iopub.execute_input": "2020-12-01T01:12:33.720226Z",
     "iopub.status.busy": "2020-12-01T01:12:33.719608Z",
     "iopub.status.idle": "2020-12-01T01:12:33.753066Z",
     "shell.execute_reply": "2020-12-01T01:12:33.752568Z"
    },
    "papermill": {
     "duration": 0.074682,
     "end_time": "2020-12-01T01:12:33.753176",
     "exception": false,
     "start_time": "2020-12-01T01:12:33.678494",
     "status": "completed"
    },
    "tags": []
   },
   "outputs": [
    {
     "data": {
      "text/html": [
       "<div>\n",
       "<style scoped>\n",
       "    .dataframe tbody tr th:only-of-type {\n",
       "        vertical-align: middle;\n",
       "    }\n",
       "\n",
       "    .dataframe tbody tr th {\n",
       "        vertical-align: top;\n",
       "    }\n",
       "\n",
       "    .dataframe thead th {\n",
       "        text-align: right;\n",
       "    }\n",
       "</style>\n",
       "<table border=\"1\" class=\"dataframe\">\n",
       "  <thead>\n",
       "    <tr style=\"text-align: right;\">\n",
       "      <th></th>\n",
       "      <th>part_1</th>\n",
       "      <th>part_2</th>\n",
       "      <th>part_3</th>\n",
       "      <th>part_4</th>\n",
       "      <th>part_5</th>\n",
       "      <th>part_6</th>\n",
       "      <th>part_7</th>\n",
       "      <th>type_of_concept</th>\n",
       "      <th>type_of_intention</th>\n",
       "      <th>type_of_solving_question</th>\n",
       "      <th>...</th>\n",
       "      <th>part_2_boolean</th>\n",
       "      <th>part_3_boolean</th>\n",
       "      <th>part_4_boolean</th>\n",
       "      <th>part_5_boolean</th>\n",
       "      <th>part_6_boolean</th>\n",
       "      <th>part_7_boolean</th>\n",
       "      <th>type_of_concept_boolean</th>\n",
       "      <th>type_of_intention_boolean</th>\n",
       "      <th>type_of_solving_question_boolean</th>\n",
       "      <th>type_of_starter_boolean</th>\n",
       "    </tr>\n",
       "    <tr>\n",
       "      <th>user_id</th>\n",
       "      <th></th>\n",
       "      <th></th>\n",
       "      <th></th>\n",
       "      <th></th>\n",
       "      <th></th>\n",
       "      <th></th>\n",
       "      <th></th>\n",
       "      <th></th>\n",
       "      <th></th>\n",
       "      <th></th>\n",
       "      <th></th>\n",
       "      <th></th>\n",
       "      <th></th>\n",
       "      <th></th>\n",
       "      <th></th>\n",
       "      <th></th>\n",
       "      <th></th>\n",
       "      <th></th>\n",
       "      <th></th>\n",
       "      <th></th>\n",
       "      <th></th>\n",
       "    </tr>\n",
       "  </thead>\n",
       "  <tbody>\n",
       "    <tr>\n",
       "      <th>2746</th>\n",
       "      <td>0</td>\n",
       "      <td>1</td>\n",
       "      <td>0</td>\n",
       "      <td>0</td>\n",
       "      <td>0</td>\n",
       "      <td>0</td>\n",
       "      <td>0</td>\n",
       "      <td>0</td>\n",
       "      <td>1</td>\n",
       "      <td>0</td>\n",
       "      <td>...</td>\n",
       "      <td>1</td>\n",
       "      <td>0</td>\n",
       "      <td>0</td>\n",
       "      <td>0</td>\n",
       "      <td>0</td>\n",
       "      <td>0</td>\n",
       "      <td>0</td>\n",
       "      <td>1</td>\n",
       "      <td>0</td>\n",
       "      <td>0</td>\n",
       "    </tr>\n",
       "    <tr>\n",
       "      <th>5382</th>\n",
       "      <td>1</td>\n",
       "      <td>0</td>\n",
       "      <td>0</td>\n",
       "      <td>0</td>\n",
       "      <td>2</td>\n",
       "      <td>0</td>\n",
       "      <td>0</td>\n",
       "      <td>3</td>\n",
       "      <td>0</td>\n",
       "      <td>0</td>\n",
       "      <td>...</td>\n",
       "      <td>0</td>\n",
       "      <td>0</td>\n",
       "      <td>0</td>\n",
       "      <td>1</td>\n",
       "      <td>0</td>\n",
       "      <td>0</td>\n",
       "      <td>1</td>\n",
       "      <td>0</td>\n",
       "      <td>0</td>\n",
       "      <td>0</td>\n",
       "    </tr>\n",
       "    <tr>\n",
       "      <th>8623</th>\n",
       "      <td>2</td>\n",
       "      <td>1</td>\n",
       "      <td>0</td>\n",
       "      <td>0</td>\n",
       "      <td>0</td>\n",
       "      <td>0</td>\n",
       "      <td>0</td>\n",
       "      <td>3</td>\n",
       "      <td>0</td>\n",
       "      <td>0</td>\n",
       "      <td>...</td>\n",
       "      <td>1</td>\n",
       "      <td>0</td>\n",
       "      <td>0</td>\n",
       "      <td>0</td>\n",
       "      <td>0</td>\n",
       "      <td>0</td>\n",
       "      <td>1</td>\n",
       "      <td>0</td>\n",
       "      <td>0</td>\n",
       "      <td>0</td>\n",
       "    </tr>\n",
       "    <tr>\n",
       "      <th>12741</th>\n",
       "      <td>0</td>\n",
       "      <td>0</td>\n",
       "      <td>0</td>\n",
       "      <td>3</td>\n",
       "      <td>0</td>\n",
       "      <td>1</td>\n",
       "      <td>2</td>\n",
       "      <td>4</td>\n",
       "      <td>0</td>\n",
       "      <td>2</td>\n",
       "      <td>...</td>\n",
       "      <td>0</td>\n",
       "      <td>0</td>\n",
       "      <td>1</td>\n",
       "      <td>0</td>\n",
       "      <td>1</td>\n",
       "      <td>1</td>\n",
       "      <td>1</td>\n",
       "      <td>0</td>\n",
       "      <td>1</td>\n",
       "      <td>0</td>\n",
       "    </tr>\n",
       "    <tr>\n",
       "      <th>13134</th>\n",
       "      <td>1</td>\n",
       "      <td>3</td>\n",
       "      <td>0</td>\n",
       "      <td>0</td>\n",
       "      <td>3</td>\n",
       "      <td>0</td>\n",
       "      <td>0</td>\n",
       "      <td>6</td>\n",
       "      <td>1</td>\n",
       "      <td>0</td>\n",
       "      <td>...</td>\n",
       "      <td>1</td>\n",
       "      <td>0</td>\n",
       "      <td>0</td>\n",
       "      <td>1</td>\n",
       "      <td>0</td>\n",
       "      <td>0</td>\n",
       "      <td>1</td>\n",
       "      <td>1</td>\n",
       "      <td>0</td>\n",
       "      <td>0</td>\n",
       "    </tr>\n",
       "  </tbody>\n",
       "</table>\n",
       "<p>5 rows × 22 columns</p>\n",
       "</div>"
      ],
      "text/plain": [
       "         part_1  part_2  part_3  part_4  part_5  part_6  part_7  \\\n",
       "user_id                                                           \n",
       "2746          0       1       0       0       0       0       0   \n",
       "5382          1       0       0       0       2       0       0   \n",
       "8623          2       1       0       0       0       0       0   \n",
       "12741         0       0       0       3       0       1       2   \n",
       "13134         1       3       0       0       3       0       0   \n",
       "\n",
       "         type_of_concept  type_of_intention  type_of_solving_question  ...  \\\n",
       "user_id                                                                ...   \n",
       "2746                   0                  1                         0  ...   \n",
       "5382                   3                  0                         0  ...   \n",
       "8623                   3                  0                         0  ...   \n",
       "12741                  4                  0                         2  ...   \n",
       "13134                  6                  1                         0  ...   \n",
       "\n",
       "         part_2_boolean  part_3_boolean  part_4_boolean  part_5_boolean  \\\n",
       "user_id                                                                   \n",
       "2746                  1               0               0               0   \n",
       "5382                  0               0               0               1   \n",
       "8623                  1               0               0               0   \n",
       "12741                 0               0               1               0   \n",
       "13134                 1               0               0               1   \n",
       "\n",
       "         part_6_boolean  part_7_boolean  type_of_concept_boolean  \\\n",
       "user_id                                                            \n",
       "2746                  0               0                        0   \n",
       "5382                  0               0                        1   \n",
       "8623                  0               0                        1   \n",
       "12741                 1               1                        1   \n",
       "13134                 0               0                        1   \n",
       "\n",
       "         type_of_intention_boolean  type_of_solving_question_boolean  \\\n",
       "user_id                                                                \n",
       "2746                             1                                 0   \n",
       "5382                             0                                 0   \n",
       "8623                             0                                 0   \n",
       "12741                            0                                 1   \n",
       "13134                            1                                 0   \n",
       "\n",
       "         type_of_starter_boolean  \n",
       "user_id                           \n",
       "2746                           0  \n",
       "5382                           0  \n",
       "8623                           0  \n",
       "12741                          0  \n",
       "13134                          0  \n",
       "\n",
       "[5 rows x 22 columns]"
      ]
     },
     "execution_count": 12,
     "metadata": {},
     "output_type": "execute_result"
    }
   ],
   "source": [
    "# add boolean features\n",
    "for column in user_lecture_stats_part.columns:\n",
    "    bool_column = column + '_boolean'\n",
    "    user_lecture_stats_part[bool_column] = (user_lecture_stats_part[column] > 0).astype(int)\n",
    "    \n",
    "user_lecture_stats_part.head()"
   ]
  },
  {
   "cell_type": "code",
   "execution_count": 13,
   "metadata": {
    "execution": {
     "iopub.execute_input": "2020-12-01T01:12:33.831051Z",
     "iopub.status.busy": "2020-12-01T01:12:33.830258Z",
     "iopub.status.idle": "2020-12-01T01:12:33.833347Z",
     "shell.execute_reply": "2020-12-01T01:12:33.832818Z"
    },
    "papermill": {
     "duration": 0.04284,
     "end_time": "2020-12-01T01:12:33.833443",
     "exception": false,
     "start_time": "2020-12-01T01:12:33.790603",
     "status": "completed"
    },
    "tags": []
   },
   "outputs": [],
   "source": [
    "#clearing memory\n",
    "del(train_lectures)"
   ]
  },
  {
   "cell_type": "code",
   "execution_count": 14,
   "metadata": {
    "execution": {
     "iopub.execute_input": "2020-12-01T01:12:33.915315Z",
     "iopub.status.busy": "2020-12-01T01:12:33.914058Z",
     "iopub.status.idle": "2020-12-01T01:13:06.702471Z",
     "shell.execute_reply": "2020-12-01T01:13:06.702955Z"
    },
    "papermill": {
     "duration": 32.83227,
     "end_time": "2020-12-01T01:13:06.703094",
     "exception": false,
     "start_time": "2020-12-01T01:12:33.870824",
     "status": "completed"
    },
    "tags": []
   },
   "outputs": [
    {
     "data": {
      "text/html": [
       "<div>\n",
       "<style scoped>\n",
       "    .dataframe tbody tr th:only-of-type {\n",
       "        vertical-align: middle;\n",
       "    }\n",
       "\n",
       "    .dataframe tbody tr th {\n",
       "        vertical-align: top;\n",
       "    }\n",
       "\n",
       "    .dataframe thead th {\n",
       "        text-align: right;\n",
       "    }\n",
       "</style>\n",
       "<table border=\"1\" class=\"dataframe\">\n",
       "  <thead>\n",
       "    <tr style=\"text-align: right;\">\n",
       "      <th></th>\n",
       "      <th>timestamp</th>\n",
       "      <th>user_id</th>\n",
       "      <th>content_id</th>\n",
       "      <th>content_type_id</th>\n",
       "      <th>task_container_id</th>\n",
       "      <th>answered_correctly</th>\n",
       "      <th>prior_question_elapsed_time</th>\n",
       "      <th>prior_question_had_explanation</th>\n",
       "    </tr>\n",
       "  </thead>\n",
       "  <tbody>\n",
       "    <tr>\n",
       "      <th>98994042</th>\n",
       "      <td>65925681553</td>\n",
       "      <td>982752539</td>\n",
       "      <td>1066</td>\n",
       "      <td>0</td>\n",
       "      <td>9999</td>\n",
       "      <td>1</td>\n",
       "      <td>16000.0</td>\n",
       "      <td>True</td>\n",
       "    </tr>\n",
       "    <tr>\n",
       "      <th>99088950</th>\n",
       "      <td>68754812937</td>\n",
       "      <td>817562598</td>\n",
       "      <td>12306</td>\n",
       "      <td>0</td>\n",
       "      <td>9999</td>\n",
       "      <td>1</td>\n",
       "      <td>22333.0</td>\n",
       "      <td>True</td>\n",
       "    </tr>\n",
       "    <tr>\n",
       "      <th>99088951</th>\n",
       "      <td>68754812937</td>\n",
       "      <td>817562598</td>\n",
       "      <td>12308</td>\n",
       "      <td>0</td>\n",
       "      <td>9999</td>\n",
       "      <td>0</td>\n",
       "      <td>22333.0</td>\n",
       "      <td>True</td>\n",
       "    </tr>\n",
       "    <tr>\n",
       "      <th>99088952</th>\n",
       "      <td>68754812937</td>\n",
       "      <td>817562598</td>\n",
       "      <td>12307</td>\n",
       "      <td>0</td>\n",
       "      <td>9999</td>\n",
       "      <td>1</td>\n",
       "      <td>22333.0</td>\n",
       "      <td>True</td>\n",
       "    </tr>\n",
       "    <tr>\n",
       "      <th>99207455</th>\n",
       "      <td>73928187913</td>\n",
       "      <td>1071085357</td>\n",
       "      <td>1189</td>\n",
       "      <td>0</td>\n",
       "      <td>9999</td>\n",
       "      <td>1</td>\n",
       "      <td>27000.0</td>\n",
       "      <td>True</td>\n",
       "    </tr>\n",
       "  </tbody>\n",
       "</table>\n",
       "</div>"
      ],
      "text/plain": [
       "            timestamp     user_id  content_id  content_type_id  \\\n",
       "98994042  65925681553   982752539        1066                0   \n",
       "99088950  68754812937   817562598       12306                0   \n",
       "99088951  68754812937   817562598       12308                0   \n",
       "99088952  68754812937   817562598       12307                0   \n",
       "99207455  73928187913  1071085357        1189                0   \n",
       "\n",
       "          task_container_id  answered_correctly  prior_question_elapsed_time  \\\n",
       "98994042               9999                   1                      16000.0   \n",
       "99088950               9999                   1                      22333.0   \n",
       "99088951               9999                   0                      22333.0   \n",
       "99088952               9999                   1                      22333.0   \n",
       "99207455               9999                   1                      27000.0   \n",
       "\n",
       "          prior_question_had_explanation  \n",
       "98994042                            True  \n",
       "99088950                            True  \n",
       "99088951                            True  \n",
       "99088952                            True  \n",
       "99207455                            True  "
      ]
     },
     "execution_count": 14,
     "metadata": {},
     "output_type": "execute_result"
    }
   ],
   "source": [
    "#removing True or 1 for content_type_id\n",
    "\n",
    "train = train[train.content_type_id == False].sort_values('timestamp').reset_index(drop = True)\n",
    "\n",
    "train[(train.task_container_id == 9999)].tail()"
   ]
  },
  {
   "cell_type": "code",
   "execution_count": 15,
   "metadata": {
    "execution": {
     "iopub.execute_input": "2020-12-01T01:13:06.782278Z",
     "iopub.status.busy": "2020-12-01T01:13:06.780996Z",
     "iopub.status.idle": "2020-12-01T01:13:11.628193Z",
     "shell.execute_reply": "2020-12-01T01:13:11.627630Z"
    },
    "papermill": {
     "duration": 4.888829,
     "end_time": "2020-12-01T01:13:11.628311",
     "exception": false,
     "start_time": "2020-12-01T01:13:06.739482",
     "status": "completed"
    },
    "tags": []
   },
   "outputs": [
    {
     "data": {
      "text/plain": [
       "10000"
      ]
     },
     "execution_count": 15,
     "metadata": {},
     "output_type": "execute_result"
    }
   ],
   "source": [
    "train[(train.content_type_id == False)].task_container_id.nunique()"
   ]
  },
  {
   "cell_type": "code",
   "execution_count": 16,
   "metadata": {
    "execution": {
     "iopub.execute_input": "2020-12-01T01:13:11.717235Z",
     "iopub.status.busy": "2020-12-01T01:13:11.716388Z",
     "iopub.status.idle": "2020-12-01T01:15:05.555654Z",
     "shell.execute_reply": "2020-12-01T01:15:05.555066Z"
    },
    "papermill": {
     "duration": 113.889229,
     "end_time": "2020-12-01T01:15:05.555809",
     "exception": false,
     "start_time": "2020-12-01T01:13:11.666580",
     "status": "completed"
    },
    "tags": []
   },
   "outputs": [],
   "source": [
    "#saving value to fillna\n",
    "elapsed_mean = train.prior_question_elapsed_time.mean()\n",
    "\n",
    "group1 = train.loc[(train.content_type_id == False), ['task_container_id', 'user_id']].groupby(['task_container_id']).agg(['count'])\n",
    "group1.columns = ['avg_questions']\n",
    "group2 = train.loc[(train.content_type_id == False), ['task_container_id', 'user_id']].groupby(['task_container_id']).agg(['nunique'])\n",
    "group2.columns = ['avg_questions']\n",
    "group3 = group1 / group2\n",
    "\n",
    "group3['avg_questions_seen'] = group3.avg_questions.cumsum()\n",
    "\n",
    "results_u_final = train.loc[train.content_type_id == False, ['user_id','answered_correctly']].groupby(['user_id']).agg(['mean'])\n",
    "results_u_final.columns = ['answered_correctly_user']\n",
    "\n",
    "results_u2_final = train.loc[train.content_type_id == False, ['user_id','prior_question_had_explanation']].groupby(['user_id']).agg(['mean'])\n",
    "results_u2_final.columns = ['explanation_mean_user']"
   ]
  },
  {
   "cell_type": "code",
   "execution_count": 17,
   "metadata": {
    "execution": {
     "iopub.execute_input": "2020-12-01T01:15:05.652310Z",
     "iopub.status.busy": "2020-12-01T01:15:05.650993Z",
     "iopub.status.idle": "2020-12-01T01:16:00.022674Z",
     "shell.execute_reply": "2020-12-01T01:16:00.022097Z"
    },
    "papermill": {
     "duration": 54.428431,
     "end_time": "2020-12-01T01:16:00.022789",
     "exception": false,
     "start_time": "2020-12-01T01:15:05.594358",
     "status": "completed"
    },
    "tags": []
   },
   "outputs": [],
   "source": [
    "train = pd.merge(train, questions_df, left_on = 'content_id', right_on = 'question_id', how = 'left')\n",
    "\n",
    "results_q_final = train.loc[train.content_type_id == False, ['question_id','answered_correctly']].groupby(['question_id']).agg(['mean'])\n",
    "results_q_final.columns = ['quest_pct']\n",
    "\n",
    "results_q2_final = train.loc[train.content_type_id == False, ['question_id','part']].groupby(['question_id']).agg(['count'])\n",
    "results_q2_final.columns = ['count']\n",
    "\n",
    "question2 = pd.merge(questions_df, results_q_final, left_on = 'question_id', right_on = 'question_id', how = 'left')\n",
    "\n",
    "question2 = pd.merge(question2, results_q2_final, left_on = 'question_id', right_on = 'question_id', how = 'left')\n",
    "\n",
    "question2.quest_pct = round(question2.quest_pct,5)\n",
    "\n",
    "train.drop(['timestamp', 'content_type_id', 'question_id', 'part'], axis=1, inplace=True)\n",
    "\n",
    "prior_mean_user = results_u2_final.explanation_mean_user.mean()"
   ]
  },
  {
   "cell_type": "code",
   "execution_count": 18,
   "metadata": {
    "execution": {
     "iopub.execute_input": "2020-12-01T01:16:00.113853Z",
     "iopub.status.busy": "2020-12-01T01:16:00.112693Z",
     "iopub.status.idle": "2020-12-01T01:17:02.438582Z",
     "shell.execute_reply": "2020-12-01T01:17:02.439103Z"
    },
    "papermill": {
     "duration": 62.376646,
     "end_time": "2020-12-01T01:17:02.439292",
     "exception": false,
     "start_time": "2020-12-01T01:16:00.062646",
     "status": "completed"
    },
    "tags": []
   },
   "outputs": [
    {
     "data": {
      "text/plain": [
       "99271300"
      ]
     },
     "execution_count": 18,
     "metadata": {},
     "output_type": "execute_result"
    }
   ],
   "source": [
    "validation = train.groupby('user_id').tail(5)\n",
    "train = train[~train.index.isin(validation.index)]\n",
    "\n",
    "results_u_val = train[['user_id','answered_correctly']].groupby(['user_id']).agg(['mean'])\n",
    "results_u_val.columns = ['answered_correctly_user']\n",
    "\n",
    "results_u2_val = train[['user_id','prior_question_had_explanation']].groupby(['user_id']).agg(['mean'])\n",
    "results_u2_val.columns = ['explanation_mean_user']\n",
    "\n",
    "X = train.groupby('user_id').tail(18)\n",
    "train = train[~train.index.isin(X.index)]\n",
    "len(X) + len(train) + len(validation)"
   ]
  },
  {
   "cell_type": "code",
   "execution_count": 19,
   "metadata": {
    "execution": {
     "iopub.execute_input": "2020-12-01T01:17:03.345547Z",
     "iopub.status.busy": "2020-12-01T01:17:03.039723Z",
     "iopub.status.idle": "2020-12-01T01:17:19.664938Z",
     "shell.execute_reply": "2020-12-01T01:17:19.664147Z"
    },
    "papermill": {
     "duration": 17.18632,
     "end_time": "2020-12-01T01:17:19.665088",
     "exception": false,
     "start_time": "2020-12-01T01:17:02.478768",
     "status": "completed"
    },
    "tags": []
   },
   "outputs": [],
   "source": [
    "results_u_X = train[['user_id','answered_correctly']].groupby(['user_id']).agg(['mean'])\n",
    "results_u_X.columns = ['answered_correctly_user']\n",
    "\n",
    "results_u2_X = train[['user_id','prior_question_had_explanation']].groupby(['user_id']).agg(['mean'])\n",
    "results_u2_X.columns = ['explanation_mean_user']"
   ]
  },
  {
   "cell_type": "code",
   "execution_count": 20,
   "metadata": {
    "execution": {
     "iopub.execute_input": "2020-12-01T01:17:19.853838Z",
     "iopub.status.busy": "2020-12-01T01:17:19.851952Z",
     "iopub.status.idle": "2020-12-01T01:17:19.854516Z",
     "shell.execute_reply": "2020-12-01T01:17:19.854972Z"
    },
    "papermill": {
     "duration": 0.148334,
     "end_time": "2020-12-01T01:17:19.855094",
     "exception": false,
     "start_time": "2020-12-01T01:17:19.706760",
     "status": "completed"
    },
    "tags": []
   },
   "outputs": [],
   "source": [
    "#clearing memory\n",
    "del(train)"
   ]
  },
  {
   "cell_type": "code",
   "execution_count": 21,
   "metadata": {
    "execution": {
     "iopub.execute_input": "2020-12-01T01:17:19.940855Z",
     "iopub.status.busy": "2020-12-01T01:17:19.939417Z",
     "iopub.status.idle": "2020-12-01T01:17:24.204384Z",
     "shell.execute_reply": "2020-12-01T01:17:24.203658Z"
    },
    "papermill": {
     "duration": 4.309999,
     "end_time": "2020-12-01T01:17:24.204492",
     "exception": false,
     "start_time": "2020-12-01T01:17:19.894493",
     "status": "completed"
    },
    "tags": []
   },
   "outputs": [],
   "source": [
    "X = pd.merge(X, group3, left_on=['task_container_id'], right_index= True, how=\"left\")\n",
    "X = pd.merge(X, results_u_X, on=['user_id'], how=\"left\")\n",
    "X = pd.merge(X, results_u2_X, on=['user_id'], how=\"left\")\n",
    "\n",
    "X = pd.merge(X, user_lecture_stats_part, on=['user_id'], how=\"left\")"
   ]
  },
  {
   "cell_type": "code",
   "execution_count": 22,
   "metadata": {
    "execution": {
     "iopub.execute_input": "2020-12-01T01:17:24.290152Z",
     "iopub.status.busy": "2020-12-01T01:17:24.289242Z",
     "iopub.status.idle": "2020-12-01T01:17:25.768834Z",
     "shell.execute_reply": "2020-12-01T01:17:25.769668Z"
    },
    "papermill": {
     "duration": 1.526279,
     "end_time": "2020-12-01T01:17:25.769927",
     "exception": false,
     "start_time": "2020-12-01T01:17:24.243648",
     "status": "completed"
    },
    "tags": []
   },
   "outputs": [],
   "source": [
    "validation = pd.merge(validation, group3, left_on=['task_container_id'], right_index= True, how=\"left\")\n",
    "validation = pd.merge(validation, results_u_val, on=['user_id'], how=\"left\")\n",
    "validation = pd.merge(validation, results_u2_val, on=['user_id'], how=\"left\")\n",
    "\n",
    "validation = pd.merge(validation, user_lecture_stats_part, on=['user_id'], how=\"left\")"
   ]
  },
  {
   "cell_type": "code",
   "execution_count": 23,
   "metadata": {
    "execution": {
     "iopub.execute_input": "2020-12-01T01:17:25.887025Z",
     "iopub.status.busy": "2020-12-01T01:17:25.885767Z",
     "iopub.status.idle": "2020-12-01T01:17:29.800748Z",
     "shell.execute_reply": "2020-12-01T01:17:29.800147Z"
    },
    "papermill": {
     "duration": 3.97289,
     "end_time": "2020-12-01T01:17:29.800855",
     "exception": false,
     "start_time": "2020-12-01T01:17:25.827965",
     "status": "completed"
    },
    "tags": []
   },
   "outputs": [],
   "source": [
    "from sklearn.preprocessing import LabelEncoder\n",
    "\n",
    "lb_make = LabelEncoder()\n",
    "\n",
    "X.prior_question_had_explanation.fillna(False, inplace = True)\n",
    "validation.prior_question_had_explanation.fillna(False, inplace = True)\n",
    "\n",
    "validation[\"prior_question_had_explanation_enc\"] = lb_make.fit_transform(validation[\"prior_question_had_explanation\"])\n",
    "X[\"prior_question_had_explanation_enc\"] = lb_make.fit_transform(X[\"prior_question_had_explanation\"])"
   ]
  },
  {
   "cell_type": "code",
   "execution_count": 24,
   "metadata": {
    "execution": {
     "iopub.execute_input": "2020-12-01T01:17:29.890109Z",
     "iopub.status.busy": "2020-12-01T01:17:29.889250Z",
     "iopub.status.idle": "2020-12-01T01:17:29.896693Z",
     "shell.execute_reply": "2020-12-01T01:17:29.896237Z"
    },
    "papermill": {
     "duration": 0.056494,
     "end_time": "2020-12-01T01:17:29.896789",
     "exception": false,
     "start_time": "2020-12-01T01:17:29.840295",
     "status": "completed"
    },
    "tags": []
   },
   "outputs": [],
   "source": [
    "content_mean = question2.quest_pct.mean()\n",
    "\n",
    "#filling questions with no info with a new value\n",
    "question2.quest_pct = question2.quest_pct.mask((question2['count'] < 3), .65)\n",
    "\n",
    "\n",
    "#filling very hard new questions with a more reasonable value\n",
    "question2.quest_pct = question2.quest_pct.mask((question2.quest_pct < .2) & (question2['count'] < 21), .2)\n",
    "\n",
    "#filling very easy new questions with a more reasonable value\n",
    "question2.quest_pct = question2.quest_pct.mask((question2.quest_pct > .95) & (question2['count'] < 21), .95)"
   ]
  },
  {
   "cell_type": "code",
   "execution_count": 25,
   "metadata": {
    "execution": {
     "iopub.execute_input": "2020-12-01T01:17:29.985545Z",
     "iopub.status.busy": "2020-12-01T01:17:29.984013Z",
     "iopub.status.idle": "2020-12-01T01:17:34.528103Z",
     "shell.execute_reply": "2020-12-01T01:17:34.527528Z"
    },
    "papermill": {
     "duration": 4.593039,
     "end_time": "2020-12-01T01:17:34.528228",
     "exception": false,
     "start_time": "2020-12-01T01:17:29.935189",
     "status": "completed"
    },
    "tags": []
   },
   "outputs": [],
   "source": [
    "X = pd.merge(X, question2, left_on = 'content_id', right_on = 'question_id', how = 'left')\n",
    "validation = pd.merge(validation, question2, left_on = 'content_id', right_on = 'question_id', how = 'left')\n",
    "X.part = X.part - 1\n",
    "validation.part = validation.part - 1\n",
    "\n",
    "y = X['answered_correctly']\n",
    "X = X.drop(['answered_correctly'], axis=1)\n",
    "\n",
    "y_val = validation['answered_correctly']\n",
    "X_val = validation.drop(['answered_correctly'], axis=1)"
   ]
  },
  {
   "cell_type": "code",
   "execution_count": 26,
   "metadata": {
    "execution": {
     "iopub.execute_input": "2020-12-01T01:17:35.244923Z",
     "iopub.status.busy": "2020-12-01T01:17:35.100403Z",
     "iopub.status.idle": "2020-12-01T01:17:35.248367Z",
     "shell.execute_reply": "2020-12-01T01:17:35.247453Z"
    },
    "papermill": {
     "duration": 0.680441,
     "end_time": "2020-12-01T01:17:35.248478",
     "exception": false,
     "start_time": "2020-12-01T01:17:34.568037",
     "status": "completed"
    },
    "tags": []
   },
   "outputs": [],
   "source": [
    "X = X[['answered_correctly_user', 'explanation_mean_user', 'quest_pct', 'avg_questions_seen',\n",
    "       'prior_question_elapsed_time','prior_question_had_explanation_enc', 'part',\n",
    "       'part_1', 'part_2', 'part_3', 'part_4', 'part_5', 'part_6', 'part_7',\n",
    "       'type_of_concept', 'type_of_intention', 'type_of_solving_question', 'type_of_starter',\n",
    "       'part_1_boolean', 'part_2_boolean', 'part_3_boolean', 'part_4_boolean', 'part_5_boolean', 'part_6_boolean', 'part_7_boolean',\n",
    "       'type_of_concept_boolean', 'type_of_intention_boolean', 'type_of_solving_question_boolean', 'type_of_starter_boolean']]\n",
    "X_val = X_val[['answered_correctly_user', 'explanation_mean_user', 'quest_pct', 'avg_questions_seen',\n",
    "               'prior_question_elapsed_time','prior_question_had_explanation_enc', 'part',\n",
    "               'part_1', 'part_2', 'part_3', 'part_4', 'part_5', 'part_6', 'part_7',\n",
    "               'type_of_concept', 'type_of_intention', 'type_of_solving_question', 'type_of_starter',\n",
    "               'part_1_boolean', 'part_2_boolean', 'part_3_boolean', 'part_4_boolean', 'part_5_boolean', 'part_6_boolean', 'part_7_boolean',\n",
    "               'type_of_concept_boolean', 'type_of_intention_boolean', 'type_of_solving_question_boolean', 'type_of_starter_boolean']]"
   ]
  },
  {
   "cell_type": "code",
   "execution_count": 27,
   "metadata": {
    "execution": {
     "iopub.execute_input": "2020-12-01T01:17:35.346224Z",
     "iopub.status.busy": "2020-12-01T01:17:35.341514Z",
     "iopub.status.idle": "2020-12-01T01:17:35.895799Z",
     "shell.execute_reply": "2020-12-01T01:17:35.895220Z"
    },
    "papermill": {
     "duration": 0.606739,
     "end_time": "2020-12-01T01:17:35.895909",
     "exception": false,
     "start_time": "2020-12-01T01:17:35.289170",
     "status": "completed"
    },
    "tags": []
   },
   "outputs": [],
   "source": [
    "X['answered_correctly_user'].fillna(0.65,  inplace=True)\n",
    "X['explanation_mean_user'].fillna(prior_mean_user,  inplace=True)\n",
    "X['quest_pct'].fillna(content_mean, inplace=True)\n",
    "\n",
    "X['part'].fillna(4, inplace = True)\n",
    "X['avg_questions_seen'].fillna(1, inplace = True)\n",
    "X['prior_question_elapsed_time'].fillna(elapsed_mean, inplace = True)\n",
    "X['prior_question_had_explanation_enc'].fillna(0, inplace = True)\n",
    "\n",
    "X['part_1'].fillna(0, inplace = True)\n",
    "X['part_2'].fillna(0, inplace = True)\n",
    "X['part_3'].fillna(0, inplace = True)\n",
    "X['part_4'].fillna(0, inplace = True)\n",
    "X['part_5'].fillna(0, inplace = True)\n",
    "X['part_6'].fillna(0, inplace = True)\n",
    "X['part_7'].fillna(0, inplace = True)\n",
    "X['type_of_concept'].fillna(0, inplace = True)\n",
    "X['type_of_intention'].fillna(0, inplace = True)\n",
    "X['type_of_solving_question'].fillna(0, inplace = True)\n",
    "X['type_of_starter'].fillna(0, inplace = True)\n",
    "X['part_1_boolean'].fillna(0, inplace = True)\n",
    "X['part_2_boolean'].fillna(0, inplace = True)\n",
    "X['part_3_boolean'].fillna(0, inplace = True)\n",
    "X['part_4_boolean'].fillna(0, inplace = True)\n",
    "X['part_5_boolean'].fillna(0, inplace = True)\n",
    "X['part_6_boolean'].fillna(0, inplace = True)\n",
    "X['part_7_boolean'].fillna(0, inplace = True)\n",
    "X['type_of_concept_boolean'].fillna(0, inplace = True)\n",
    "X['type_of_intention_boolean'].fillna(0, inplace = True)\n",
    "X['type_of_solving_question_boolean'].fillna(0, inplace = True)\n",
    "X['type_of_starter_boolean'].fillna(0, inplace = True)"
   ]
  },
  {
   "cell_type": "code",
   "execution_count": 28,
   "metadata": {
    "execution": {
     "iopub.execute_input": "2020-12-01T01:17:36.000672Z",
     "iopub.status.busy": "2020-12-01T01:17:35.999649Z",
     "iopub.status.idle": "2020-12-01T01:17:36.200305Z",
     "shell.execute_reply": "2020-12-01T01:17:36.198811Z"
    },
    "papermill": {
     "duration": 0.259427,
     "end_time": "2020-12-01T01:17:36.200477",
     "exception": false,
     "start_time": "2020-12-01T01:17:35.941050",
     "status": "completed"
    },
    "tags": []
   },
   "outputs": [],
   "source": [
    "X_val['answered_correctly_user'].fillna(0.65,  inplace=True)\n",
    "X_val['explanation_mean_user'].fillna(prior_mean_user,  inplace=True)\n",
    "X_val['quest_pct'].fillna(content_mean,  inplace=True)\n",
    "\n",
    "X_val['part'].fillna(4, inplace = True)\n",
    "X_val['avg_questions_seen'].fillna(1, inplace = True)\n",
    "X_val['prior_question_elapsed_time'].fillna(elapsed_mean, inplace = True)\n",
    "X_val['prior_question_had_explanation_enc'].fillna(0, inplace = True)\n",
    "\n",
    "X_val['part_1'].fillna(0, inplace = True)\n",
    "X_val['part_2'].fillna(0, inplace = True)\n",
    "X_val['part_3'].fillna(0, inplace = True)\n",
    "X_val['part_4'].fillna(0, inplace = True)\n",
    "X_val['part_5'].fillna(0, inplace = True)\n",
    "X_val['part_6'].fillna(0, inplace = True)\n",
    "X_val['part_7'].fillna(0, inplace = True)\n",
    "X_val['type_of_concept'].fillna(0, inplace = True)\n",
    "X_val['type_of_intention'].fillna(0, inplace = True)\n",
    "X_val['type_of_solving_question'].fillna(0, inplace = True)\n",
    "X_val['type_of_starter'].fillna(0, inplace = True)\n",
    "X_val['part_1_boolean'].fillna(0, inplace = True)\n",
    "X_val['part_2_boolean'].fillna(0, inplace = True)\n",
    "X_val['part_3_boolean'].fillna(0, inplace = True)\n",
    "X_val['part_4_boolean'].fillna(0, inplace = True)\n",
    "X_val['part_5_boolean'].fillna(0, inplace = True)\n",
    "X_val['part_6_boolean'].fillna(0, inplace = True)\n",
    "X_val['part_7_boolean'].fillna(0, inplace = True)\n",
    "X_val['type_of_concept_boolean'].fillna(0, inplace = True)\n",
    "X_val['type_of_intention_boolean'].fillna(0, inplace = True)\n",
    "X_val['type_of_solving_question_boolean'].fillna(0, inplace = True)\n",
    "X_val['type_of_starter_boolean'].fillna(0, inplace = True)"
   ]
  },
  {
   "cell_type": "markdown",
   "metadata": {
    "papermill": {
     "duration": 0.057791,
     "end_time": "2020-12-01T01:17:36.331739",
     "exception": false,
     "start_time": "2020-12-01T01:17:36.273948",
     "status": "completed"
    },
    "tags": []
   },
   "source": [
    "### 3. NN"
   ]
  },
  {
   "cell_type": "code",
   "execution_count": 29,
   "metadata": {
    "_cell_guid": "79c7e3d0-c299-4dcb-8224-4455121ee9b0",
    "_uuid": "d629ff2d2480ee46fbb7e2d37f6b5fab8052498a",
    "execution": {
     "iopub.execute_input": "2020-12-01T01:17:36.451961Z",
     "iopub.status.busy": "2020-12-01T01:17:36.451108Z",
     "iopub.status.idle": "2020-12-01T01:17:38.515824Z",
     "shell.execute_reply": "2020-12-01T01:17:38.516315Z"
    },
    "papermill": {
     "duration": 2.129309,
     "end_time": "2020-12-01T01:17:38.516464",
     "exception": false,
     "start_time": "2020-12-01T01:17:36.387155",
     "status": "completed"
    },
    "tags": []
   },
   "outputs": [],
   "source": [
    "os.chdir('/kaggle/working/')\n",
    "\n",
    "import torch\n",
    "import torch.nn as nn\n",
    "import torch.nn.functional as F\n",
    "from torch.utils.data import Dataset, DataLoader\n",
    "from torch.optim.lr_scheduler import StepLR\n",
    "import torch.optim as optim\n",
    "\n",
    "import time\n",
    "import random\n",
    "import math\n",
    "\n",
    "device = torch.device(\"cuda\" if torch.cuda.is_available() else \"cpu\")"
   ]
  },
  {
   "cell_type": "code",
   "execution_count": 30,
   "metadata": {
    "execution": {
     "iopub.execute_input": "2020-12-01T01:17:38.605058Z",
     "iopub.status.busy": "2020-12-01T01:17:38.604342Z",
     "iopub.status.idle": "2020-12-01T01:17:38.610621Z",
     "shell.execute_reply": "2020-12-01T01:17:38.610060Z"
    },
    "papermill": {
     "duration": 0.053433,
     "end_time": "2020-12-01T01:17:38.610725",
     "exception": false,
     "start_time": "2020-12-01T01:17:38.557292",
     "status": "completed"
    },
    "tags": []
   },
   "outputs": [],
   "source": [
    "BATCH_SIZE = 32\n",
    "SEED = 42\n",
    "\n",
    "random.seed(SEED)\n",
    "np.random.seed(SEED)\n",
    "torch.manual_seed(SEED)\n",
    "torch.cuda.manual_seed(SEED)\n",
    "torch.backends.cudnn.deterministic = True"
   ]
  },
  {
   "cell_type": "code",
   "execution_count": 31,
   "metadata": {
    "execution": {
     "iopub.execute_input": "2020-12-01T01:17:38.701626Z",
     "iopub.status.busy": "2020-12-01T01:17:38.700832Z",
     "iopub.status.idle": "2020-12-01T01:17:38.704930Z",
     "shell.execute_reply": "2020-12-01T01:17:38.704467Z"
    },
    "papermill": {
     "duration": 0.054244,
     "end_time": "2020-12-01T01:17:38.705025",
     "exception": false,
     "start_time": "2020-12-01T01:17:38.650781",
     "status": "completed"
    },
    "tags": []
   },
   "outputs": [],
   "source": [
    "class riiid_dataset(Dataset):\n",
    "    def __init__(self, train_features, train_labels):\n",
    "        super().__init__()\n",
    "        self.train_features = train_features\n",
    "        self.train_labels = train_labels\n",
    "\n",
    "    def __len__(self):\n",
    "        return len(self.train_features)\n",
    "\n",
    "    def __getitem__(self, idx):\n",
    "        if torch.is_tensor(idx):\n",
    "            idx = idx.tolist()\n",
    "        return (self.train_features[idx], self.train_labels[idx])"
   ]
  },
  {
   "cell_type": "code",
   "execution_count": 32,
   "metadata": {
    "execution": {
     "iopub.execute_input": "2020-12-01T01:17:38.801359Z",
     "iopub.status.busy": "2020-12-01T01:17:38.800084Z",
     "iopub.status.idle": "2020-12-01T01:17:41.327258Z",
     "shell.execute_reply": "2020-12-01T01:17:41.325896Z"
    },
    "papermill": {
     "duration": 2.580367,
     "end_time": "2020-12-01T01:17:41.327407",
     "exception": false,
     "start_time": "2020-12-01T01:17:38.747040",
     "status": "completed"
    },
    "tags": []
   },
   "outputs": [],
   "source": [
    "X_train = torch.tensor(X.values,requires_grad=False).float()\n",
    "X_test = torch.tensor(X_val.values,requires_grad=False).float()\n",
    "y_train = torch.tensor(y.values).reshape(-1, 1).float()\n",
    "y_test = torch.tensor(y_val.values).reshape(-1, 1).float()\n",
    "train_dataset = riiid_dataset(X_train, y_train)\n",
    "test_dataset = riiid_dataset(X_test, y_test)\n",
    "train_iter = DataLoader(train_dataset, BATCH_SIZE, shuffle = True, worker_init_fn=np.random.seed(42))\n",
    "test_iter = DataLoader(test_dataset, BATCH_SIZE, shuffle = True, worker_init_fn=np.random.seed(42))"
   ]
  },
  {
   "cell_type": "code",
   "execution_count": 33,
   "metadata": {
    "execution": {
     "iopub.execute_input": "2020-12-01T01:17:41.419010Z",
     "iopub.status.busy": "2020-12-01T01:17:41.417955Z",
     "iopub.status.idle": "2020-12-01T01:17:41.422198Z",
     "shell.execute_reply": "2020-12-01T01:17:41.421682Z"
    },
    "papermill": {
     "duration": 0.054338,
     "end_time": "2020-12-01T01:17:41.422297",
     "exception": false,
     "start_time": "2020-12-01T01:17:41.367959",
     "status": "completed"
    },
    "tags": []
   },
   "outputs": [],
   "source": [
    "class BCN(nn.Module):\n",
    "    def __init__(self, input_dim, output_dim=2):\n",
    "        super().__init__()\n",
    "        self.fc1 = nn.Linear(input_dim, 1000)\n",
    "        self.fc2 = nn.Linear(1000, 50) \n",
    "        self.fc3 = nn.Linear(50, output_dim)\n",
    "        self.softmax = nn.LogSoftmax(dim=1)\n",
    "        \n",
    "    def forward(self, xb):\n",
    "        xb = F.relu(self.fc1(xb))\n",
    "        xb = F.dropout(xb, p=0.1)\n",
    "        xb = F.relu(self.fc2(xb))\n",
    "        xb = F.dropout(xb, p=0.1)\n",
    "        xb = self.softmax(self.fc3(xb))\n",
    "        return xb"
   ]
  },
  {
   "cell_type": "code",
   "execution_count": 34,
   "metadata": {
    "execution": {
     "iopub.execute_input": "2020-12-01T01:17:41.507950Z",
     "iopub.status.busy": "2020-12-01T01:17:41.507296Z",
     "iopub.status.idle": "2020-12-01T01:17:45.475318Z",
     "shell.execute_reply": "2020-12-01T01:17:45.474555Z"
    },
    "papermill": {
     "duration": 4.013312,
     "end_time": "2020-12-01T01:17:45.475429",
     "exception": false,
     "start_time": "2020-12-01T01:17:41.462117",
     "status": "completed"
    },
    "tags": []
   },
   "outputs": [],
   "source": [
    "input_dim = X_train.size()[-1]\n",
    "model = BCN(input_dim).to(device)"
   ]
  },
  {
   "cell_type": "code",
   "execution_count": 35,
   "metadata": {
    "execution": {
     "iopub.execute_input": "2020-12-01T01:17:45.564661Z",
     "iopub.status.busy": "2020-12-01T01:17:45.563972Z",
     "iopub.status.idle": "2020-12-01T01:17:45.567699Z",
     "shell.execute_reply": "2020-12-01T01:17:45.568173Z"
    },
    "papermill": {
     "duration": 0.050233,
     "end_time": "2020-12-01T01:17:45.568293",
     "exception": false,
     "start_time": "2020-12-01T01:17:45.518060",
     "status": "completed"
    },
    "tags": []
   },
   "outputs": [],
   "source": [
    "criterion = torch.nn.CrossEntropyLoss()\n",
    "optimizer = torch.optim.Adam(model.parameters(), lr=0.01)\n",
    "lr_scheduler = StepLR(optimizer, step_size=2, gamma=0.1)"
   ]
  },
  {
   "cell_type": "code",
   "execution_count": 36,
   "metadata": {
    "execution": {
     "iopub.execute_input": "2020-12-01T01:17:45.663901Z",
     "iopub.status.busy": "2020-12-01T01:17:45.663068Z",
     "iopub.status.idle": "2020-12-01T01:17:45.666987Z",
     "shell.execute_reply": "2020-12-01T01:17:45.666460Z"
    },
    "papermill": {
     "duration": 0.05742,
     "end_time": "2020-12-01T01:17:45.667103",
     "exception": false,
     "start_time": "2020-12-01T01:17:45.609683",
     "status": "completed"
    },
    "tags": []
   },
   "outputs": [],
   "source": [
    "def train(model, iterator, optimizer, criterion, epoch):\n",
    "    \n",
    "    model.train()\n",
    "    \n",
    "    epoch_loss = 0\n",
    "\n",
    "    for i, batch in enumerate(iterator):\n",
    "        \n",
    "        src = batch[0].to(device)\n",
    "        trg = batch[1].to(device)\n",
    "        optimizer.zero_grad()\n",
    "        output = model(src)\n",
    "        output_dim = output.shape[-1]\n",
    "\n",
    "#        output = output.view(-1,output_dim)\n",
    "#        result = torch.tensor(torch.argmax(output, dim=1).view(-1,1).cpu(), dtype = float)\n",
    "        trg = trg.view(-1)\n",
    "        loss = criterion(output, trg.to(dtype = torch.long))\n",
    "        loss.backward()\n",
    "            \n",
    "#        torch.nn.utils.clip_grad_norm_(model.parameters(), clip)\n",
    "        \n",
    "        optimizer.step()\n",
    "        \n",
    "        epoch_loss += loss.item()\n",
    "        \n",
    "        src.cpu()\n",
    "        trg.cpu()\n",
    "\n",
    "    return epoch_loss / len(iterator)"
   ]
  },
  {
   "cell_type": "code",
   "execution_count": 37,
   "metadata": {
    "execution": {
     "iopub.execute_input": "2020-12-01T01:17:45.760512Z",
     "iopub.status.busy": "2020-12-01T01:17:45.759805Z",
     "iopub.status.idle": "2020-12-01T01:17:45.763295Z",
     "shell.execute_reply": "2020-12-01T01:17:45.763758Z"
    },
    "papermill": {
     "duration": 0.053311,
     "end_time": "2020-12-01T01:17:45.763864",
     "exception": false,
     "start_time": "2020-12-01T01:17:45.710553",
     "status": "completed"
    },
    "tags": []
   },
   "outputs": [],
   "source": [
    "def evaluate(model, iterator, criterion):\n",
    "    \n",
    "    model.eval()\n",
    "    \n",
    "    epoch_loss = 0\n",
    "    \n",
    "    with torch.no_grad():\n",
    "        for i, batch in enumerate(iterator):\n",
    "\n",
    "            src = batch[0].to(device)\n",
    "            trg = batch[1].to(device)\n",
    "          \n",
    "            output = model(src)\n",
    "\n",
    "            output_dim = output.shape[-1]\n",
    "            trg = trg.view(-1)\n",
    "            # output = output.view(-1, output_dim)\n",
    "            # trg = trg.view(-1, output_dim)\n",
    "\n",
    "            loss = criterion(output, trg.to(dtype = torch.long))\n",
    "            \n",
    "            epoch_loss += loss.item()\n",
    "            \n",
    "            src.cpu()\n",
    "            trg.cpu()\n",
    "            \n",
    "    return epoch_loss / len(iterator)"
   ]
  },
  {
   "cell_type": "code",
   "execution_count": 38,
   "metadata": {
    "execution": {
     "iopub.execute_input": "2020-12-01T01:17:45.853724Z",
     "iopub.status.busy": "2020-12-01T01:17:45.851842Z",
     "iopub.status.idle": "2020-12-01T01:17:45.854498Z",
     "shell.execute_reply": "2020-12-01T01:17:45.855016Z"
    },
    "papermill": {
     "duration": 0.049929,
     "end_time": "2020-12-01T01:17:45.855165",
     "exception": false,
     "start_time": "2020-12-01T01:17:45.805236",
     "status": "completed"
    },
    "tags": []
   },
   "outputs": [],
   "source": [
    "def epoch_time(start_time, end_time):\n",
    "    elapsed_time = end_time - start_time\n",
    "    elapsed_mins = int(elapsed_time / 60)\n",
    "    elapsed_secs = int(elapsed_time - (elapsed_mins * 60))\n",
    "    return elapsed_mins, elapsed_secs"
   ]
  },
  {
   "cell_type": "code",
   "execution_count": 39,
   "metadata": {
    "execution": {
     "iopub.execute_input": "2020-12-01T01:17:45.946703Z",
     "iopub.status.busy": "2020-12-01T01:17:45.945967Z",
     "iopub.status.idle": "2020-12-01T02:00:05.022368Z",
     "shell.execute_reply": "2020-12-01T02:00:05.023375Z"
    },
    "papermill": {
     "duration": 2539.127508,
     "end_time": "2020-12-01T02:00:05.023624",
     "exception": false,
     "start_time": "2020-12-01T01:17:45.896116",
     "status": "completed"
    },
    "tags": []
   },
   "outputs": [
    {
     "name": "stdout",
     "output_type": "stream",
     "text": [
      "Epoch: 01 | Time: 8m 29s\n",
      "\tTrain Loss: 0.799 | Train PPL:   2.222\n",
      "\t Val. Loss: 0.690 |  Val. PPL:   1.993\n",
      "Epoch: 02 | Time: 8m 17s\n",
      "\tTrain Loss: 0.688 | Train PPL:   1.990\n",
      "\t Val. Loss: 0.691 |  Val. PPL:   1.995\n",
      "Epoch: 03 | Time: 8m 18s\n",
      "\tTrain Loss: 0.688 | Train PPL:   1.989\n",
      "\t Val. Loss: 0.690 |  Val. PPL:   1.994\n",
      "Epoch: 04 | Time: 8m 33s\n",
      "\tTrain Loss: 0.688 | Train PPL:   1.989\n",
      "\t Val. Loss: 0.690 |  Val. PPL:   1.994\n",
      "Epoch: 05 | Time: 8m 38s\n",
      "\tTrain Loss: 0.688 | Train PPL:   1.989\n",
      "\t Val. Loss: 0.690 |  Val. PPL:   1.994\n"
     ]
    }
   ],
   "source": [
    "N_EPOCHS = 5\n",
    "\n",
    "best_test_loss = float('inf')\n",
    "\n",
    "for epoch in range(N_EPOCHS):\n",
    "    \n",
    "    start_time = time.time()\n",
    "    train_loss= train(model, train_iter, optimizer, criterion, epoch)        \n",
    "\n",
    "    test_loss = evaluate(model, test_iter, criterion)\n",
    "    \n",
    "    end_time = time.time()\n",
    "    \n",
    "    epoch_mins, epoch_secs = epoch_time(start_time, end_time)\n",
    "    \n",
    "#     if test_loss < best_test_loss:\n",
    "#         best_test_loss = test_loss\n",
    "#         torch.save(model.state_dict(), 'riiid_bcn.pt')\n",
    "    lr_scheduler.step()\n",
    "    print(f'Epoch: {epoch+1:02} | Time: {epoch_mins}m {epoch_secs}s')\n",
    "    print(f'\\tTrain Loss: {train_loss:.3f} | Train PPL: {math.exp(train_loss):7.3f}')\n",
    "    print(f'\\t Val. Loss: {test_loss:.3f} |  Val. PPL: {math.exp(test_loss):7.3f}')"
   ]
  },
  {
   "cell_type": "code",
   "execution_count": 40,
   "metadata": {
    "execution": {
     "iopub.execute_input": "2020-12-01T02:00:05.140986Z",
     "iopub.status.busy": "2020-12-01T02:00:05.138943Z",
     "iopub.status.idle": "2020-12-01T02:00:05.141911Z",
     "shell.execute_reply": "2020-12-01T02:00:05.142481Z"
    },
    "papermill": {
     "duration": 0.068389,
     "end_time": "2020-12-01T02:00:05.142612",
     "exception": false,
     "start_time": "2020-12-01T02:00:05.074223",
     "status": "completed"
    },
    "tags": []
   },
   "outputs": [],
   "source": [
    "def nn_prediction(df):\n",
    "    test = torch.tensor(df.values,requires_grad=False).float()\n",
    "    output = []\n",
    "    model.eval()\n",
    "    n_times = math.floor(len(test)/32)\n",
    "    with torch.no_grad():\n",
    "        if n_times == 0:\n",
    "            batch = test.to(device)\n",
    "\n",
    "            temp = torch.argmax(model(batch), dim=1).detach().cpu().numpy()\n",
    "            output.extend(temp)\n",
    "\n",
    "            batch.cpu()\n",
    "        else:\n",
    "            for i in range(n_times):\n",
    "                batch = test[i:(i+1)*32].to(device)\n",
    "\n",
    "                temp = torch.argmax(model(batch), dim=1).detach().cpu().numpy()\n",
    "                output.extend(temp)\n",
    "\n",
    "                batch.cpu()\n",
    "                if i == n_times-1 and (i+1)*32 != len(test):\n",
    "                    batch = test[(i+1)*32:].to(device)\n",
    "                    temp = torch.argmax(model(batch), dim=1).detach().cpu().numpy()\n",
    "                    output.extend(temp)\n",
    "\n",
    "                    batch.cpu()\n",
    "    return output\n",
    "\n",
    "    \n",
    "# model.load_state_dict(torch.load('riiid_bcn.pt'))\n",
    "# os.remove('riiid_bcn.pt')"
   ]
  },
  {
   "cell_type": "code",
   "execution_count": 41,
   "metadata": {
    "execution": {
     "iopub.execute_input": "2020-12-01T02:00:05.277566Z",
     "iopub.status.busy": "2020-12-01T02:00:05.261273Z",
     "iopub.status.idle": "2020-12-01T02:00:06.289099Z",
     "shell.execute_reply": "2020-12-01T02:00:06.287831Z"
    },
    "papermill": {
     "duration": 1.081087,
     "end_time": "2020-12-01T02:00:06.289270",
     "exception": false,
     "start_time": "2020-12-01T02:00:05.208183",
     "status": "completed"
    },
    "tags": []
   },
   "outputs": [],
   "source": [
    "env = riiideducation.make_env()\n",
    "iter_test = env.iter_test()\n",
    "for (test_df, sample_prediction_df) in iter_test:\n",
    "    test_df['task_container_id'] = test_df.task_container_id.mask(test_df.task_container_id > 9999, 9999)\n",
    "    test_df = pd.merge(test_df, group3, left_on=['task_container_id'], right_index= True, how=\"left\")\n",
    "    test_df = pd.merge(test_df, question2, left_on = 'content_id', right_on = 'question_id', how = 'left')\n",
    "    test_df = pd.merge(test_df, results_u_final, on=['user_id'],  how=\"left\")\n",
    "    test_df = pd.merge(test_df, results_u2_final, on=['user_id'],  how=\"left\")\n",
    "    \n",
    "    test_df = pd.merge(test_df, user_lecture_stats_part, on=['user_id'], how=\"left\")\n",
    "    test_df['part_1'].fillna(0, inplace = True)\n",
    "    test_df['part_2'].fillna(0, inplace = True)\n",
    "    test_df['part_3'].fillna(0, inplace = True)\n",
    "    test_df['part_4'].fillna(0, inplace = True)\n",
    "    test_df['part_5'].fillna(0, inplace = True)\n",
    "    test_df['part_6'].fillna(0, inplace = True)\n",
    "    test_df['part_7'].fillna(0, inplace = True)\n",
    "    test_df['type_of_concept'].fillna(0, inplace = True)\n",
    "    test_df['type_of_intention'].fillna(0, inplace = True)\n",
    "    test_df['type_of_solving_question'].fillna(0, inplace = True)\n",
    "    test_df['type_of_starter'].fillna(0, inplace = True)\n",
    "    test_df['part_1_boolean'].fillna(0, inplace = True)\n",
    "    test_df['part_2_boolean'].fillna(0, inplace = True)\n",
    "    test_df['part_3_boolean'].fillna(0, inplace = True)\n",
    "    test_df['part_4_boolean'].fillna(0, inplace = True)\n",
    "    test_df['part_5_boolean'].fillna(0, inplace = True)\n",
    "    test_df['part_6_boolean'].fillna(0, inplace = True)\n",
    "    test_df['part_7_boolean'].fillna(0, inplace = True)\n",
    "    test_df['type_of_concept_boolean'].fillna(0, inplace = True)\n",
    "    test_df['type_of_intention_boolean'].fillna(0, inplace = True)\n",
    "    test_df['type_of_solving_question_boolean'].fillna(0, inplace = True)\n",
    "    test_df['type_of_starter_boolean'].fillna(0, inplace = True)\n",
    "    \n",
    "    test_df['answered_correctly_user'].fillna(0.65,  inplace=True)\n",
    "    test_df['explanation_mean_user'].fillna(prior_mean_user,  inplace=True)\n",
    "    test_df['quest_pct'].fillna(content_mean,  inplace=True)\n",
    "    test_df['part'] = test_df.part - 1\n",
    "\n",
    "    test_df['part'].fillna(4, inplace = True)\n",
    "    test_df['avg_questions_seen'].fillna(1, inplace = True)\n",
    "    test_df['prior_question_elapsed_time'].fillna(elapsed_mean, inplace = True)\n",
    "    test_df['prior_question_had_explanation'].fillna(False, inplace=True)\n",
    "    test_df[\"prior_question_had_explanation_enc\"] = lb_make.fit_transform(test_df[\"prior_question_had_explanation\"])\n",
    "\n",
    "    \n",
    "    test_df['answered_correctly'] =  nn_prediction(test_df[['answered_correctly_user', 'explanation_mean_user', 'quest_pct', 'avg_questions_seen',\n",
    "                                                            'prior_question_elapsed_time','prior_question_had_explanation_enc', 'part',\n",
    "                                                            'part_1', 'part_2', 'part_3', 'part_4', 'part_5', 'part_6', 'part_7',\n",
    "                                                            'type_of_concept', 'type_of_intention', 'type_of_solving_question', 'type_of_starter',\n",
    "                                                            'part_1_boolean', 'part_2_boolean', 'part_3_boolean', 'part_4_boolean', 'part_5_boolean', 'part_6_boolean', 'part_7_boolean',\n",
    "                                                            'type_of_concept_boolean', 'type_of_intention_boolean', 'type_of_solving_question_boolean', 'type_of_starter_boolean']])\n",
    "    env.predict(test_df.loc[test_df['content_type_id'] == 0, ['row_id', 'answered_correctly']])"
   ]
  }
 ],
 "metadata": {
  "kernelspec": {
   "display_name": "Python 3",
   "language": "python",
   "name": "python3"
  },
  "language_info": {
   "codemirror_mode": {
    "name": "ipython",
    "version": 3
   },
   "file_extension": ".py",
   "mimetype": "text/x-python",
   "name": "python",
   "nbconvert_exporter": "python",
   "pygments_lexer": "ipython3",
   "version": "3.7.6"
  },
  "papermill": {
   "duration": 3142.977016,
   "end_time": "2020-12-01T02:00:06.744421",
   "environment_variables": {},
   "exception": null,
   "input_path": "__notebook__.ipynb",
   "output_path": "__notebook__.ipynb",
   "parameters": {},
   "start_time": "2020-12-01T01:07:43.767405",
   "version": "2.1.0"
  }
 },
 "nbformat": 4,
 "nbformat_minor": 4
}
